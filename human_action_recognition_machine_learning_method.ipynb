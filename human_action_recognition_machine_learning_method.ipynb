{
  "cells": [
    {
      "cell_type": "code",
      "execution_count": null,
      "metadata": {
        "id": "JAY5mdmlmKdH"
      },
      "outputs": [],
      "source": [
        "import numpy as np\n",
        "import cv2\n",
        "import os\n",
        "from scipy import ndimage\n",
        "from scipy.spatial import distance\n",
        "from sklearn.cluster import KMeans\n",
        "from sklearn.model_selection import train_test_split\n",
        "from sklearn.svm import LinearSVC\n",
        "from sklearn.metrics import accuracy_score\n",
        "from sklearn.metrics import classification_report"
      ]
    },
    {
      "cell_type": "code",
      "execution_count": null,
      "metadata": {
        "colab": {
          "base_uri": "https://localhost:8080/"
        },
        "id": "inaA5uwllvaq",
        "outputId": "0d3a70c1-7419-4e78-9f6a-a306fde054ab"
      },
      "outputs": [
        {
          "output_type": "stream",
          "name": "stdout",
          "text": [
            "Mounted at /content/drive/\n"
          ]
        }
      ],
      "source": [
        "from google.colab import drive\n",
        "\n",
        "drive.mount('/content/drive/')"
      ]
    },
    {
      "cell_type": "markdown",
      "source": [
        "Load grayscale and binary images from 10 different actions:"
      ],
      "metadata": {
        "id": "tTEzKGPP7DAT"
      }
    },
    {
      "cell_type": "code",
      "source": [
        "!unzip -q /content/drive/MyDrive/train_all.zip -d /content/"
      ],
      "metadata": {
        "id": "YVN5cJtt0LOm"
      },
      "execution_count": null,
      "outputs": []
    },
    {
      "cell_type": "code",
      "source": [
        "!unzip -q /content/drive/MyDrive/test_all.zip -d /content/"
      ],
      "metadata": {
        "id": "9o1t6AF_0LLF"
      },
      "execution_count": null,
      "outputs": []
    },
    {
      "cell_type": "code",
      "execution_count": null,
      "metadata": {
        "id": "whbvCT5UnR7P"
      },
      "outputs": [],
      "source": [
        "def load_images_from_folder(folder):\n",
        "    images = {}\n",
        "    for filename in os.listdir(folder):\n",
        "        category = []\n",
        "        path = folder + \"/\" + filename\n",
        "        for cat in os.listdir(path):\n",
        "            img = cv2.imread(path + \"/\" + cat,0)\n",
        "            if img is not None:\n",
        "                category.append(img)\n",
        "        images[filename] = category\n",
        "    return images\n",
        "\n",
        "train = load_images_from_folder('/content/train_all')\n",
        "test = load_images_from_folder('/content/test_all')"
      ]
    },
    {
      "cell_type": "code",
      "execution_count": null,
      "metadata": {
        "colab": {
          "base_uri": "https://localhost:8080/"
        },
        "id": "sCzZ6fGtniLH",
        "outputId": "15467167-5c6f-499f-c836-9a5cb39f30ba"
      },
      "outputs": [
        {
          "output_type": "execute_result",
          "data": {
            "text/plain": [
              "10"
            ]
          },
          "metadata": {},
          "execution_count": 6
        }
      ],
      "source": [
        "#number of acion classes\n",
        "len(train)"
      ]
    },
    {
      "cell_type": "markdown",
      "source": [
        "Use SIFT algorithm to extract features of images:"
      ],
      "metadata": {
        "id": "_HfJZ-Cl7gKz"
      }
    },
    {
      "cell_type": "code",
      "execution_count": null,
      "metadata": {
        "id": "0dd3ab34"
      },
      "outputs": [],
      "source": [
        "def sift_features(images):\n",
        "    sift_vectors = {}\n",
        "    descriptor_list = []\n",
        "    sift = cv2.SIFT_create(nfeatures=500)\n",
        "    for key,value in images.items():\n",
        "        features = []\n",
        "        for img in value:\n",
        "            kp, des = sift.detectAndCompute(img,None)\n",
        "            descriptor_list.extend(des)\n",
        "            features.append(des)\n",
        "        sift_vectors[key] = features\n",
        "    return [descriptor_list, sift_vectors]\n",
        "\n",
        "sifts = sift_features(train)\n",
        "\n",
        "descriptor_list = sifts[0]\n",
        "\n",
        "all_bovw_feature = sifts[1]\n",
        "\n",
        "test_bovw_feature = sift_features(test)[1]"
      ]
    },
    {
      "cell_type": "markdown",
      "source": [
        "Use Kmeans to generate visual words:"
      ],
      "metadata": {
        "id": "x0eHlL3v7pzK"
      }
    },
    {
      "cell_type": "code",
      "execution_count": null,
      "metadata": {
        "id": "aea15951"
      },
      "outputs": [],
      "source": [
        "def kmeans(k, descriptor_list):\n",
        "    kmeans = KMeans(n_clusters = k, n_init=10)\n",
        "    kmeans.fit(descriptor_list)\n",
        "    visual_words = kmeans.cluster_centers_\n",
        "    return visual_words\n",
        "\n",
        "visual_words = kmeans(500, descriptor_list)"
      ]
    },
    {
      "cell_type": "code",
      "execution_count": null,
      "metadata": {
        "id": "4c714c7f"
      },
      "outputs": [],
      "source": [
        "def find_index(image, center):\n",
        "    count = 0\n",
        "    ind = 0\n",
        "    for i in range(len(center)):\n",
        "        if(i == 0):\n",
        "           count = distance.euclidean(image, center[i])\n",
        "        else:\n",
        "            dist = distance.euclidean(image, center[i])\n",
        "            if(dist < count):\n",
        "                ind = i\n",
        "                count = dist\n",
        "    return ind"
      ]
    },
    {
      "cell_type": "code",
      "execution_count": null,
      "metadata": {
        "id": "84493581"
      },
      "outputs": [],
      "source": [
        "def image_class(all_bovw, centers):\n",
        "    dict_feature = {}\n",
        "    for key,value in all_bovw.items():\n",
        "        category = []\n",
        "        for img in value:\n",
        "            histogram = np.zeros(len(centers))\n",
        "            for each_feature in img:\n",
        "                ind = find_index(each_feature, centers)\n",
        "                histogram[ind] += 1\n",
        "            category.append(histogram)\n",
        "        dict_feature[key] = category\n",
        "    return dict_feature\n",
        "\n",
        "bovw_train = image_class(all_bovw_feature, visual_words)\n",
        "\n",
        "bovw_test = image_class(test_bovw_feature, visual_words)"
      ]
    },
    {
      "cell_type": "code",
      "source": [
        "X_train = []\n",
        "y_train = []\n",
        "for key, value in bovw_train.items():\n",
        "    for img in value:\n",
        "        X_train.append(img)\n",
        "        y_train.append(key)\n",
        "\n",
        "X_test = []\n",
        "y_test = []\n",
        "for key, value in bovw_test.items():\n",
        "    for img in value:\n",
        "        X_test.append(img)\n",
        "        y_test.append(key)\n",
        "\n",
        "X_train = np.array(X_train)\n",
        "y_train = np.array(y_train)\n",
        "X_test = np.array(X_test)\n",
        "y_test = np.array(y_test)\n",
        "\n",
        "X_train, X_test, y_train, y_test = train_test_split(X_train, y_train, test_size=0.3, random_state=42)\n",
        "\n",
        "clf = LinearSVC(C=1.0, penalty='l2', loss='squared_hinge', multi_class='ovr')\n",
        "clf.fit(X_train, y_train)\n",
        "\n",
        "y_pred = clf.predict(X_test)\n",
        "\n",
        "accuracy = accuracy_score(y_test, y_pred)\n",
        "print(\"Accuracy:\", accuracy)"
      ],
      "metadata": {
        "colab": {
          "base_uri": "https://localhost:8080/"
        },
        "id": "7MeklOve1ork",
        "outputId": "bf27b260-d14e-45f3-ac53-c6bce4603ca7"
      },
      "execution_count": 15,
      "outputs": [
        {
          "output_type": "stream",
          "name": "stdout",
          "text": [
            "Accuracy: 0.6984615384615385\n"
          ]
        }
      ]
    },
    {
      "cell_type": "code",
      "source": [
        "report = classification_report(y_test, y_pred)\n",
        "\n",
        "print(report)"
      ],
      "metadata": {
        "colab": {
          "base_uri": "https://localhost:8080/"
        },
        "id": "w1jmpTUj2CPM",
        "outputId": "07820637-ae01-45a2-c5f0-a32c23b742cd"
      },
      "execution_count": 16,
      "outputs": [
        {
          "output_type": "stream",
          "name": "stdout",
          "text": [
            "              precision    recall  f1-score   support\n",
            "\n",
            "        bend       0.86      0.81      0.84        81\n",
            "        jack       0.72      0.65      0.68        77\n",
            "        jump       0.68      0.61      0.64        56\n",
            "       pjump       0.71      0.68      0.70        59\n",
            "         run       0.32      0.32      0.32        38\n",
            "        side       0.69      0.71      0.70        58\n",
            "        skip       0.44      0.44      0.44        48\n",
            "        walk       0.59      0.66      0.62        73\n",
            "       wave1       0.85      0.89      0.87        97\n",
            "       wave2       0.78      0.89      0.83        63\n",
            "\n",
            "    accuracy                           0.70       650\n",
            "   macro avg       0.67      0.66      0.66       650\n",
            "weighted avg       0.70      0.70      0.70       650\n",
            "\n"
          ]
        }
      ]
    },
    {
      "cell_type": "markdown",
      "source": [
        "In this project, we implement the proposed method of ISA article in the title of \"Human action recognition with bag of visual words using different machine learning methods and hyperparameter optimization\" with DOI: https://doi.org/10.1007/s00521-019-04365-9"
      ],
      "metadata": {
        "id": "WF25CKI7FxWi"
      }
    }
  ],
  "metadata": {
    "colab": {
      "provenance": [],
      "gpuType": "T4"
    },
    "kernelspec": {
      "display_name": "Python 3",
      "name": "python3"
    },
    "language_info": {
      "name": "python"
    },
    "accelerator": "GPU"
  },
  "nbformat": 4,
  "nbformat_minor": 0
}