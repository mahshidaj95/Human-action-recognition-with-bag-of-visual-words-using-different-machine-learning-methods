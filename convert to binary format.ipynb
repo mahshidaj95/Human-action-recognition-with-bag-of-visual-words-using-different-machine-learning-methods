{
  "nbformat": 4,
  "nbformat_minor": 0,
  "metadata": {
    "colab": {
      "name": "Binary.ipynb",
      "private_outputs": true,
      "provenance": [],
      "collapsed_sections": []
    },
    "kernelspec": {
      "name": "python3",
      "display_name": "Python 3"
    },
    "language_info": {
      "name": "python"
    },
    "accelerator": "GPU"
  },
  "cells": [
    {
      "cell_type": "code",
      "metadata": {
        "id": "FENlcP_UGnBC"
      },
      "source": [
        "!pip install --quiet av pims"
      ],
      "execution_count": null,
      "outputs": []
    },
    {
      "cell_type": "code",
      "metadata": {
        "id": "zhAstublHpze"
      },
      "source": [
        "import torch\n",
        "\n",
        "model = torch.hub.load(\"PeterL1n/RobustVideoMatting\", \"mobilenetv3\").cuda()\n",
        "convert_video = torch.hub.load(\"PeterL1n/RobustVideoMatting\", \"converter\")"
      ],
      "execution_count": null,
      "outputs": []
    },
    {
      "cell_type": "code",
      "metadata": {
        "id": "XQS1RNu3IEl2"
      },
      "source": [
        "convert_video(\n",
        "    model,\n",
        "    input_source='input.mp4',\n",
        "    downsample_ratio=None,\n",
        "    output_type='video',\n",
        "    output_alpha=\"pha.mp4\",\n",
        "    output_video_mbps=4,\n",
        "    seq_chunk=12,\n",
        "    num_workers=1,\n",
        "    progress=True\n",
        ")"
      ],
      "execution_count": null,
      "outputs": []
    }
  ]
}